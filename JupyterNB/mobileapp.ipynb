{
 "cells": [
  {
   "cell_type": "code",
   "execution_count": 1,
   "metadata": {},
   "outputs": [
    {
     "name": "stderr",
     "output_type": "stream",
     "text": [
      "2024-06-05 20:22:43,900 - INFO - Found credentials in shared credentials file: ~/.aws/credentials\n",
      "2024-06-05 20:22:44,575 - INFO - Table name from environment variable: DynamoDB_Quick_Photos\n"
     ]
    }
   ],
   "source": [
    "#Imports and Configuration\n",
    "import logging\n",
    "from dotenv import load_dotenv\n",
    "import os\n",
    "import boto3\n",
    "from rich import print as rprint\n",
    "from typing import List, Dict, Any\n",
    "from botocore.exceptions import NoCredentialsError, ClientError\n",
    "\n",
    "# Configure logging\n",
    "logging.basicConfig(level=logging.INFO, format='%(asctime)s - %(levelname)s - %(message)s')\n",
    "\n",
    "# Load the environment variables from .env file\n",
    "load_dotenv()\n",
    "\n",
    "#  database ID\n",
    "table_name: str = os.getenv('TABLE_NAME_1')\n",
    "\n",
    "# Initialize clients\n",
    "try:\n",
    "    dynamodb = boto3.client('dynamodb')\n",
    "    dynamodbres = boto3.resource('dynamodb')\n",
    "except NoCredentialsError as e:\n",
    "    logging.error(\"Credentials not available for AWS or Notion Client: %s\", e)\n",
    "    raise\n",
    "except Exception as e:\n",
    "    logging.error(\"Error initializing clients: %s\", e)\n",
    "    raise\n",
    "\n",
    "logging.info(f'Table name from environment variable: {table_name}')\n"
   ]
  },
  {
   "cell_type": "code",
   "execution_count": 2,
   "metadata": {},
   "outputs": [
    {
     "name": "stdout",
     "output_type": "stream",
     "text": [
      "Table created successfully.\n"
     ]
    }
   ],
   "source": [
    "import boto3\n",
    "\n",
    "dynamodb = boto3.client('dynamodb')\n",
    "\n",
    "try:\n",
    "    dynamodb.create_table(\n",
    "        TableName='quick-photos',\n",
    "        AttributeDefinitions=[\n",
    "            {\n",
    "                \"AttributeName\": \"PK\",\n",
    "                \"AttributeType\": \"S\"\n",
    "            },\n",
    "            {\n",
    "                \"AttributeName\": \"SK\",\n",
    "                \"AttributeType\": \"S\"\n",
    "            }\n",
    "        ],\n",
    "        KeySchema=[\n",
    "            {\n",
    "                \"AttributeName\": \"PK\",\n",
    "                \"KeyType\": \"HASH\"\n",
    "            },\n",
    "            {\n",
    "                \"AttributeName\": \"SK\",\n",
    "                \"KeyType\": \"RANGE\"\n",
    "            }\n",
    "        ],\n",
    "        ProvisionedThroughput={\n",
    "            \"ReadCapacityUnits\": 5,\n",
    "            \"WriteCapacityUnits\": 5\n",
    "        }\n",
    "    )\n",
    "    print(\"Table created successfully.\")\n",
    "except Exception as e:\n",
    "    print(\"Could not create table. Error:\")\n",
    "    print(e)"
   ]
  },
  {
   "cell_type": "code",
   "execution_count": 4,
   "metadata": {},
   "outputs": [],
   "source": [
    "import json\n",
    "\n",
    "import boto3\n",
    "\n",
    "dynamodb = boto3.resource('dynamodb')\n",
    "table = dynamodb.Table('quick-photos')\n",
    "\n",
    "items = []\n",
    "\n",
    "with open('../scripts/items.json', 'r') as f:\n",
    "    for row in f:\n",
    "        items.append(json.loads(row))\n",
    "\n",
    "with table.batch_writer() as batch:\n",
    "    for item in items:\n",
    "        batch.put_item(Item=item)"
   ]
  },
  {
   "cell_type": "code",
   "execution_count": 6,
   "metadata": {},
   "outputs": [
    {
     "name": "stdout",
     "output_type": "stream",
     "text": [
      "User<jacksonjason -- John Perry>\n",
      "Photo<jacksonjason -- 2018-05-30T15:42:38>\n",
      "Photo<jacksonjason -- 2018-06-09T13:49:13>\n",
      "Photo<jacksonjason -- 2018-06-26T03:59:33>\n",
      "Photo<jacksonjason -- 2018-07-14T10:21:01>\n",
      "Photo<jacksonjason -- 2018-10-06T22:29:39>\n",
      "Photo<jacksonjason -- 2018-11-13T08:23:00>\n",
      "Photo<jacksonjason -- 2018-11-18T15:37:05>\n",
      "Photo<jacksonjason -- 2018-11-26T22:27:44>\n",
      "Photo<jacksonjason -- 2019-01-02T05:09:04>\n",
      "Photo<jacksonjason -- 2019-01-23T12:43:33>\n",
      "Photo<jacksonjason -- 2019-03-03T02:00:01>\n",
      "Photo<jacksonjason -- 2019-03-03T18:20:10>\n",
      "Photo<jacksonjason -- 2019-03-11T15:18:22>\n",
      "Photo<jacksonjason -- 2019-03-30T02:28:42>\n",
      "Photo<jacksonjason -- 2019-04-14T21:52:36>\n"
     ]
    }
   ],
   "source": [
    "import boto3\n",
    "\n",
    "from entities import User, Photo\n",
    "\n",
    "dynamodb = boto3.client('dynamodb')\n",
    "\n",
    "USER = \"jacksonjason\"\n",
    "\n",
    "\n",
    "def fetch_user_and_photos(username):\n",
    "    resp = dynamodb.query(\n",
    "        TableName='quick-photos',\n",
    "        KeyConditionExpression=\"PK = :pk AND SK BETWEEN :metadata AND :photos\",\n",
    "        ExpressionAttributeValues={\n",
    "            \":pk\": { \"S\": \"USER#{}\".format(username) },\n",
    "            \":metadata\": { \"S\": \"#METADATA#{}\".format(username) },\n",
    "            \":photos\": { \"S\": \"PHOTO$\" },\n",
    "        },\n",
    "        ScanIndexForward=True\n",
    "    )\n",
    "\n",
    "    user = User(resp['Items'][0])\n",
    "    user.photos = [Photo(item) for item in resp['Items'][1:]]\n",
    "\n",
    "    return user\n",
    "\n",
    "\n",
    "user = fetch_user_and_photos(USER)\n",
    "\n",
    "print(user)\n",
    "for photo in user.photos:\n",
    "    print(photo)"
   ]
  }
 ],
 "metadata": {
  "kernelspec": {
   "display_name": "Python 3",
   "language": "python",
   "name": "python3"
  },
  "language_info": {
   "codemirror_mode": {
    "name": "ipython",
    "version": 3
   },
   "file_extension": ".py",
   "mimetype": "text/x-python",
   "name": "python",
   "nbconvert_exporter": "python",
   "pygments_lexer": "ipython3",
   "version": "3.12.3"
  }
 },
 "nbformat": 4,
 "nbformat_minor": 2
}
